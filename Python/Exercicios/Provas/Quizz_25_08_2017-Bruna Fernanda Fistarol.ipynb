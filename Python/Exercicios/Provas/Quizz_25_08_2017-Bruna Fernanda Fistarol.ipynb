{
 "cells": [
  {
   "cell_type": "markdown",
   "metadata": {},
   "source": [
    "1 - Dadas uma lista qualquer, como a do exemplo abaixo:"
   ]
  },
  {
   "cell_type": "code",
   "execution_count": 4,
   "metadata": {
    "collapsed": true
   },
   "outputs": [],
   "source": [
    "lista = [1,2,3,'4',5,6.3,7.4 + 2j,\"123\",[1,2,3], 93, \"98\", (1,2,3,'4')]"
   ]
  },
  {
   "cell_type": "markdown",
   "metadata": {},
   "source": [
    "Crie uma função recursiva para imprimir o antecessor e o sucessor de cada elemento de uma lista:\n",
    "+ Caso este elemento seja inteiro, imprimir o valor;  \n",
    "+ Caso seja uma string, imprimir o inteiro correspondente;  \n",
    "+ Caso seja um real, imprima a parte inteira;\n",
    "+ Caso seja um imaginário, imprima a parte inteira e real;\n",
    "+ Caso seja uma sequência, aplique as regras acima para cada elemento da sequência.  "
   ]
  },
  {
   "cell_type": "code",
   "execution_count": 13,
   "metadata": {
    "collapsed": true
   },
   "outputs": [],
   "source": [
    "def imprime_valor(lista):\n",
    "    for i in range(len(lista)):\n",
    "        if type(lista[i])==int:\n",
    "            print(lista[i]-1, lista[i]+1)\n",
    "        elif type(lista[i])==str:\n",
    "            print(int(lista[i])-1, int(lista[i])+1)\n",
    "        elif type(lista[i])==float:\n",
    "            print(int(lista[i])-1, int(lista[i]+1))\n",
    "        elif type(lista[i])==complex:\n",
    "            print(int((lista[i].real))-1, int((lista[i].real))+1)\n",
    "        elif type(lista[i])==list or set or tuple:\n",
    "            imprime_valor(lista[i])"
   ]
  },
  {
   "cell_type": "markdown",
   "metadata": {},
   "source": [
    "2 - Crie uma função, ou conjunto de funções, para exibir por extenso o valor de qualquer número inteiro até 1000.  \n",
    "Exemplo:  \n",
    "\n",
    "    print(imprime_extenso(234))  \n",
    "    > 'duzentos e trinta e quatro'  "
   ]
  },
  {
   "cell_type": "code",
   "execution_count": 104,
   "metadata": {
    "collapsed": true
   },
   "outputs": [],
   "source": [
    "def extenso(x):\n",
    "    s=str(x)\n",
    "    if s=='1000':\n",
    "        print('mil')\n",
    "        return\n",
    "    if s=='100':\n",
    "        print('cem')\n",
    "        return\n",
    "    if len(s)==1:\n",
    "        n=0\n",
    "        if s[n]=='0':\n",
    "            print('zero')\n",
    "        elif s[n]=='1':\n",
    "            print('um')\n",
    "        elif s[n]=='2':\n",
    "            print('dois')\n",
    "        elif s[n]=='3':\n",
    "            print('três')\n",
    "        elif s[n]=='4':\n",
    "            print('quatro')\n",
    "        elif s[n]=='5':\n",
    "            print('cinco')\n",
    "        elif s[n]=='6':\n",
    "            print('seis')\n",
    "        elif s[n]=='7':\n",
    "            print('sete')\n",
    "        elif s[n]=='8':\n",
    "            print('oito')\n",
    "        elif s[n]=='9':\n",
    "            print('nove')\n",
    "        return\n",
    "    if len(s)==2:\n",
    "        n=0\n",
    "        if s[n]=='1':\n",
    "            if s[n+1]=='0':\n",
    "                print('dez')\n",
    "            elif s[n+1]=='1':\n",
    "                print('onze')\n",
    "            elif s[n+1]=='2':\n",
    "                print('doze')\n",
    "            elif s[n+1]=='3':\n",
    "                print('treze')\n",
    "            elif s[n+1]=='4':\n",
    "                print('quatorze')\n",
    "            elif s[n+1]=='5':\n",
    "                print('quinze')\n",
    "            elif s[n+1]=='6':\n",
    "                print('dezesseis')\n",
    "            elif s[n+1]=='7':\n",
    "                print('dezessete')\n",
    "            elif s[n+1]=='8':\n",
    "                print('dezoito')\n",
    "            elif s[n+1]=='9':\n",
    "                print('dezenove')\n",
    "            return\n",
    "        elif s[n]=='2':\n",
    "            print('vinte',end='')\n",
    "        elif s[n]=='3':\n",
    "            print('trinta',end='')\n",
    "        elif s[n]=='4':\n",
    "            print('quarenta',end='')\n",
    "        elif s[n]=='5':\n",
    "            print('cinquenta',end='')\n",
    "        elif s[n]=='6':\n",
    "            print('sessenta',end='')\n",
    "        elif s[n]=='7':\n",
    "            print('setenta',end='')\n",
    "        elif s[n]=='8':\n",
    "            print('oitenta',end='')\n",
    "        elif s[n]=='9':\n",
    "            print('noventa',end='')\n",
    "        if s[n]!='0':\n",
    "            print(' e ', end='')\n",
    "        if s[n+1]=='1':\n",
    "            print('um')\n",
    "        elif s[n+1]=='2':\n",
    "            print('dois')\n",
    "        elif s[n+1]=='3':\n",
    "            print('três')\n",
    "        elif s[n+1]=='4':\n",
    "            print('quatro')\n",
    "        elif s[n+1]=='5':\n",
    "            print('cinco')\n",
    "        elif s[n+1]=='6':\n",
    "            print('seis')\n",
    "        elif s[n+1]=='7':\n",
    "            print('sete')\n",
    "        elif s[n+1]=='8':\n",
    "            print('oito')\n",
    "        elif s[n+1]=='9':\n",
    "            print('nove')\n",
    "    if len(s)==3:\n",
    "        n=0\n",
    "        if s[n]=='1':\n",
    "            print('cento',end='')\n",
    "        elif s[n]=='2':\n",
    "            print('duzentos',end='')\n",
    "        elif s[n]=='3':\n",
    "            print('trezentos',end='')\n",
    "        elif s[n]=='4':\n",
    "            print('quatrocentos',end='')\n",
    "        elif s[n]=='5':\n",
    "            print('quinhentos',end='')\n",
    "        elif s[n]=='6':\n",
    "            print('seicentos',end='')\n",
    "        elif s[n]=='7':\n",
    "            print('setecentos',end='')\n",
    "        elif s[n]=='8':\n",
    "            print('oitocentos',end='')\n",
    "        elif s[n]=='9':\n",
    "            print('novecentos',end='')\n",
    "        if s[n+1]!='0':\n",
    "            print(' e ', end='')\n",
    "        if s[n+1]=='1':\n",
    "            if s[n+2]=='0':\n",
    "                print('dez')\n",
    "            elif s[n+2]=='1':\n",
    "                print('onze')\n",
    "            elif s[n+2]=='2':\n",
    "                print('doze')\n",
    "            elif s[n+2]=='3':\n",
    "                print('treze')\n",
    "            elif s[n+2]=='4':\n",
    "                print('quatorze')\n",
    "            elif s[n+2]=='5':\n",
    "                print('quinze')\n",
    "            elif s[n+2]=='6':\n",
    "                print('dezesseis')\n",
    "            elif s[n+2]=='7':\n",
    "                print('dezessete')\n",
    "            elif s[n+2]=='8':\n",
    "                print('dezoito')\n",
    "            elif s[n+2]=='9':\n",
    "                print('dezenove')\n",
    "            return\n",
    "        elif s[n+1]=='2':\n",
    "            print('vinte',end='')\n",
    "        elif s[n+1]=='3':\n",
    "            print('trinta',end='')\n",
    "        elif s[n+1]=='4':\n",
    "            print('quarenta',end='')\n",
    "        elif s[n+1]=='5':\n",
    "            print('cinquenta',end='')\n",
    "        elif s[n+1]=='6':\n",
    "            print('sessenta',end='')\n",
    "        elif s[n+1]=='7':\n",
    "            print('setenta',end='')\n",
    "        elif s[n+1]=='8':\n",
    "            print('oitenta',end='')\n",
    "        elif s[n+1]=='9':\n",
    "            print('noventa',end='')\n",
    "        if s[n+2]!='0':\n",
    "            print(' e ', end='')\n",
    "        if s[n+2]=='1':\n",
    "            print('um')\n",
    "        elif s[n+2]=='2':\n",
    "            print('dois')\n",
    "        elif s[n+2]=='3':\n",
    "            print('três')\n",
    "        elif s[n+2]=='4':\n",
    "            print('quatro')\n",
    "        elif s[n+2]=='5':\n",
    "            print('cinco')\n",
    "        elif s[n+2]=='6':\n",
    "            print('seis')\n",
    "        elif s[n+2]=='7':\n",
    "            print('sete')\n",
    "        elif s[n+2]=='8':\n",
    "            print('oito')\n",
    "        elif s[n+2]=='9':\n",
    "            print('nove')"
   ]
  },
  {
   "cell_type": "code",
   "execution_count": 110,
   "metadata": {},
   "outputs": [
    {
     "name": "stdout",
     "output_type": "stream",
     "text": [
      "cem\n"
     ]
    }
   ],
   "source": [
    "extenso(100)"
   ]
  },
  {
   "cell_type": "markdown",
   "metadata": {},
   "source": [
    "3- Em alguns lugares é comum lembrar um número do telefone associando seus dígitos a letras. Dessa maneira a expressão MY LOVE significa 69 5683. Claro que existem alguns problemas, uma vez que alguns números de telefone não formam uma palavra ou uma frase e os dígitos 1 e 0 não estão associados a nenhuma letra.  \n",
    "\n",
    "Sua tarefa é ler uma expressão e encontrar o número de telefone correspondente baseado na tabela abaixo. Uma expressão é composta por letras maiúsculas (A-Z), hifens (-) e os números 1 e 0.  \n",
    "\n",
    "Letras  ->  Número \n",
    "ABC    ->  2 \n",
    "DEF    ->  3 \n",
    "GHI    ->  4 \n",
    "JKL    ->  5 \n",
    "MNO    ->  6 \n",
    "PQRS    ->  7 \n",
    "TUV    ->  8 \n",
    "WXYZ   ->  9 \n",
    "\n",
    "Entrada  \n",
    "\n",
    "A entrada consiste de um conjunto de expressões. Cada expressão está sozinha em uma linha e possui C caracteres, onde 1 ≤ C ≤ 30. A entrada é terminada por fim de arquivo (EOF).  \n",
    "\n",
    "Saída  \n",
    "\n",
    "Para cada expressão você deve imprimir o número de telefone correspondente.  \n",
    "\n",
    "Exemplo de entrada:  \n",
    "\n",
    "1-HOME-SWEET-HOME  \n",
    "MY-MISERABLE-JOB  \n",
    "\n",
    "Saída correspondente:\n",
    "\n",
    "1-4663-79338-4663  \n",
    "69-647372253-562  "
   ]
  },
  {
   "cell_type": "code",
   "execution_count": 87,
   "metadata": {
    "collapsed": true
   },
   "outputs": [],
   "source": [
    "def telefone(s):\n",
    "    for i in range(len(s)):\n",
    "        if s[i]=='0':\n",
    "            print(0)\n",
    "        elif s[i]=='-':\n",
    "            print('-',end='')\n",
    "        elif s[i]=='1':\n",
    "            print(1,end='')\n",
    "        elif s[i]=='A' or s[i]=='B' or s[i]=='C':\n",
    "            print('2',end='')\n",
    "        elif s[i]=='D' or s[i]=='E' or s[i]=='F':\n",
    "            print('3',end='')\n",
    "        elif s[i]=='G' or s[i]=='H' or s[i]=='I':\n",
    "            print('4',end='')\n",
    "        elif s[i]=='J' or s[i]=='K' or s[i]=='L':\n",
    "            print('5',end='')\n",
    "        elif s[i]=='M' or s[i]=='N' or s[i]=='O':\n",
    "            print('6',end='')\n",
    "        elif s[i]=='P' or s[i]=='Q' or s[i]=='R' or s[i]=='S':\n",
    "            print('7',end='')\n",
    "        elif s[i]=='T' or s[i]=='U' or s[i]=='V':\n",
    "            print('8',end='')\n",
    "        elif s[i]=='W' or s[i]=='X' or s[i]=='Y' or s[i]=='Z':\n",
    "            print('9',end='')"
   ]
  },
  {
   "cell_type": "code",
   "execution_count": 88,
   "metadata": {},
   "outputs": [
    {
     "name": "stdout",
     "output_type": "stream",
     "text": [
      "1-4663-79338-4663"
     ]
    }
   ],
   "source": [
    "x='1-HOME-SWEET-HOME'\n",
    "telefone(x)"
   ]
  },
  {
   "cell_type": "markdown",
   "metadata": {},
   "source": [
    "4- Dada um texto em formato string, encontre todas as palavras pertencentes a esta string que contenham uma determinada letra, passada como parâmetro. "
   ]
  },
  {
   "cell_type": "code",
   "execution_count": 52,
   "metadata": {},
   "outputs": [
    {
     "data": {
      "text/plain": [
       "['uma', 'string', 'com', 'muita', 'palavra']"
      ]
     },
     "execution_count": 52,
     "metadata": {},
     "output_type": "execute_result"
    }
   ],
   "source": [
    "string='uma string com muita palavra'\n",
    "string.split()"
   ]
  },
  {
   "cell_type": "code",
   "execution_count": 58,
   "metadata": {
    "collapsed": true
   },
   "outputs": [],
   "source": [
    "def encontra_string(string,s):\n",
    "    lista=[]\n",
    "    l=string.split()\n",
    "    for i in range(len(l)):\n",
    "        if l[i].count(s)>0:\n",
    "            lista.append(l[i])\n",
    "    print(lista)"
   ]
  },
  {
   "cell_type": "code",
   "execution_count": 60,
   "metadata": {},
   "outputs": [
    {
     "name": "stdout",
     "output_type": "stream",
     "text": [
      "['uma', 'com', 'muita']\n"
     ]
    }
   ],
   "source": [
    "encontra_string(string,'m')"
   ]
  }
 ],
 "metadata": {
  "kernelspec": {
   "display_name": "Python 3",
   "language": "python",
   "name": "python3"
  },
  "language_info": {
   "codemirror_mode": {
    "name": "ipython",
    "version": 3
   },
   "file_extension": ".py",
   "mimetype": "text/x-python",
   "name": "python",
   "nbconvert_exporter": "python",
   "pygments_lexer": "ipython3",
   "version": "3.5.2+"
  }
 },
 "nbformat": 4,
 "nbformat_minor": 2
}
